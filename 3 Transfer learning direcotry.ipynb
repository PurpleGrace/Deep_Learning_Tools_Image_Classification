{
 "cells": [
  {
   "cell_type": "code",
   "execution_count": 1,
   "id": "24244cc3",
   "metadata": {},
   "outputs": [],
   "source": [
    "import matplotlib.pyplot as plt\n",
    "import matplotlib.image as mpimg\n",
    "import seaborn as sns\n",
    "import numpy as np\n",
    "import pandas as pd\n",
    "import os\n",
    "from dotenv import load_dotenv\n",
    "import time\n",
    "from collections import Counter\n",
    "import random\n",
    "import pickle\n",
    "from sklearn.model_selection import train_test_split\n",
    "from sklearn.metrics import accuracy_score,f1_score, precision_score,recall_score,confusion_matrix,classification_report\n",
    "\n",
    "import tensorflow as tf\n",
    "from tensorflow import keras\n",
    "from tensorflow.keras.models import Sequential\n",
    "from tensorflow.keras import layers\n",
    "from tensorflow.keras.layers import InputLayer,Conv2D,MaxPooling2D,MaxPool2D,Flatten,Dense,Dropout\n",
    "from tensorflow.keras.preprocessing import image as IMG\n",
    "\n"
   ]
  },
  {
   "cell_type": "code",
   "execution_count": 228,
   "id": "bd910d6b",
   "metadata": {},
   "outputs": [],
   "source": [
    "# with open('image_data_array.pickle','rb') as file:\n",
    "#     data = pickle.load(file)\n",
    "    "
   ]
  },
  {
   "cell_type": "code",
   "execution_count": 229,
   "id": "1bc0d8f3",
   "metadata": {},
   "outputs": [],
   "source": [
    "# X_train, X_test,y_train,y_test = data[0],data[1],data[2],data[3]\n",
    "\n",
    "# #Split data into train and validation set\n",
    "# X_train,X_val,y_train,y_val = train_test_split(X_train,y_train,random_state = 17,shuffle =True,test_size =.2)\n",
    "\n",
    "# y_train_hotcode = keras.utils.to_categorical(y_train)\n",
    "# y_val_hotcode = keras.utils.to_categorical(y_val)\n",
    "# y_test_hotcode = keras.utils.to_categorical(y_test)"
   ]
  },
  {
   "cell_type": "code",
   "execution_count": 28,
   "id": "a50302de",
   "metadata": {},
   "outputs": [],
   "source": [
    "IMG_SIZE = 150\n",
    "test_dir = \"work_data/test\"\n",
    "val_dir = \"work_data/validation\"\n",
    "train_dir = \"work_data/train\""
   ]
  },
  {
   "cell_type": "code",
   "execution_count": 39,
   "id": "26141551",
   "metadata": {},
   "outputs": [],
   "source": [
    "IMGgen = IMG.ImageDataGenerator(\n",
    "        rotation_range=60,\n",
    "        width_shift_range=0.2,\n",
    "        height_shift_range=0.2,\n",
    "        shear_range=0.2,\n",
    "        zoom_range=0.3,\n",
    "        horizontal_flip=True,\n",
    "        fill_mode='nearest')"
   ]
  },
  {
   "cell_type": "code",
   "execution_count": 40,
   "id": "90269cbf",
   "metadata": {},
   "outputs": [
    {
     "name": "stdout",
     "output_type": "stream",
     "text": [
      "Found 4158 images belonging to 8 classes.\n",
      "Found 1379 images belonging to 8 classes.\n",
      "Found 1379 files belonging to 8 classes.\n"
     ]
    }
   ],
   "source": [
    "train_ds =IMGgen.flow_from_directory(train_dir, target_size=(IMG_SIZE, IMG_SIZE),batch_size=32)\n",
    "\n",
    "val_ds = IMGgen.flow_from_directory(val_dir, target_size=(IMG_SIZE, IMG_SIZE),batch_size=16)\n",
    "\n",
    "\n",
    "test_ds = keras.utils.image_dataset_from_directory(\n",
    "                            test_dir,\n",
    "                            label_mode= 'categorical',\n",
    "                            batch_size=1, \n",
    "                            image_size=(IMG_SIZE,IMG_SIZE), \n",
    "                            shuffle=False, \n",
    "                            seed=None)\n",
    "\n",
    "\n",
    "# test_ds = IMG.ImageDataGenerator(rescale=1./255).\n",
    "#                 flow_from_directory(test_dir, target_size=(IMG_SIZE, IMG_SIZE),batch_size=1)"
   ]
  },
  {
   "cell_type": "markdown",
   "id": "96eb1734",
   "metadata": {},
   "source": [
    "#### Transfer Learning with Xception "
   ]
  },
  {
   "cell_type": "markdown",
   "id": "24fc6cb2",
   "metadata": {},
   "source": [
    "#### Freeze Xception parameter and exclude top layers"
   ]
  },
  {
   "cell_type": "code",
   "execution_count": 41,
   "id": "4ff4af33",
   "metadata": {},
   "outputs": [],
   "source": [
    "Xception_base = keras.applications.Xception(weights=\"imagenet\", \n",
    "                                            input_shape=(150, 150, 3),\n",
    "                                            include_top=False) \n",
    "\n",
    "Xception_base.trainable = False"
   ]
  },
  {
   "cell_type": "code",
   "execution_count": 32,
   "id": "cd5ae334",
   "metadata": {},
   "outputs": [],
   "source": [
    "# data_augmentation = keras.Sequential([\n",
    "#         layers.RandomFlip(\"horizontal_and_vertical\"),\n",
    "#         layers.RandomRotation(0.1)])"
   ]
  },
  {
   "cell_type": "code",
   "execution_count": 42,
   "id": "97b480d1",
   "metadata": {
    "scrolled": false
   },
   "outputs": [
    {
     "name": "stdout",
     "output_type": "stream",
     "text": [
      "Model: \"model_10\"\n",
      "_________________________________________________________________\n",
      " Layer (type)                Output Shape              Param #   \n",
      "=================================================================\n",
      " input_18 (InputLayer)       [(None, 150, 150, 3)]     0         \n",
      "                                                                 \n",
      " tf.math.truediv_10 (TFOpLam  (None, 150, 150, 3)      0         \n",
      " bda)                                                            \n",
      "                                                                 \n",
      " tf.math.subtract_10 (TFOpLa  (None, 150, 150, 3)      0         \n",
      " mbda)                                                           \n",
      "                                                                 \n",
      " xception (Functional)       (None, 5, 5, 2048)        20861480  \n",
      "                                                                 \n",
      " flatten_5 (Flatten)         (None, 51200)             0         \n",
      "                                                                 \n",
      " dense_33 (Dense)            (None, 32)                1638432   \n",
      "                                                                 \n",
      " dropout_23 (Dropout)        (None, 32)                0         \n",
      "                                                                 \n",
      " dense_34 (Dense)            (None, 8)                 264       \n",
      "                                                                 \n",
      "=================================================================\n",
      "Total params: 22,500,176\n",
      "Trainable params: 1,638,696\n",
      "Non-trainable params: 20,861,480\n",
      "_________________________________________________________________\n",
      "Epoch 1/30\n",
      "130/130 [==============================] - 318s 2s/step - loss: 7.2592 - accuracy: 0.2961 - val_loss: 7.6538 - val_accuracy: 0.3394\n",
      "Epoch 2/30\n",
      "130/130 [==============================] - 355s 3s/step - loss: 8.4120 - accuracy: 0.2569 - val_loss: 8.9766 - val_accuracy: 0.3328\n",
      "Epoch 3/30\n",
      "130/130 [==============================] - 307s 2s/step - loss: 8.1306 - accuracy: 0.2196 - val_loss: 7.9129 - val_accuracy: 0.2154\n",
      "Epoch 4/30\n",
      "130/130 [==============================] - 313s 2s/step - loss: 7.4274 - accuracy: 0.2001 - val_loss: 7.4648 - val_accuracy: 0.2277\n",
      "Epoch 5/30\n",
      "130/130 [==============================] - 329s 3s/step - loss: 7.6290 - accuracy: 0.2239 - val_loss: 7.1206 - val_accuracy: 0.2342\n",
      "Epoch 6/30\n",
      "130/130 [==============================] - 297s 2s/step - loss: 7.9491 - accuracy: 0.2405 - val_loss: 6.5015 - val_accuracy: 0.2422\n",
      "Epoch 7/30\n",
      "130/130 [==============================] - 299s 2s/step - loss: 7.3914 - accuracy: 0.2554 - val_loss: 8.8739 - val_accuracy: 0.3140\n",
      "Epoch 8/30\n",
      "130/130 [==============================] - 359s 3s/step - loss: 8.6390 - accuracy: 0.2860 - val_loss: 7.0597 - val_accuracy: 0.3756\n",
      "Epoch 9/30\n",
      "130/130 [==============================] - 304s 2s/step - loss: 7.8380 - accuracy: 0.2987 - val_loss: 6.3660 - val_accuracy: 0.3561\n",
      "Epoch 10/30\n",
      "130/130 [==============================] - 297s 2s/step - loss: 8.0788 - accuracy: 0.2994 - val_loss: 8.5930 - val_accuracy: 0.3648\n",
      "Epoch 11/30\n",
      "130/130 [==============================] - 310s 2s/step - loss: 7.9332 - accuracy: 0.3117 - val_loss: 6.6275 - val_accuracy: 0.3814\n",
      "Epoch 12/30\n",
      "130/130 [==============================] - 273s 2s/step - loss: 6.4077 - accuracy: 0.2831 - val_loss: 6.1715 - val_accuracy: 0.2676\n",
      "Epoch 13/30\n",
      "130/130 [==============================] - 273s 2s/step - loss: 7.1016 - accuracy: 0.2715 - val_loss: 6.3473 - val_accuracy: 0.2792\n",
      "Epoch 14/30\n",
      "130/130 [==============================] - 225s 2s/step - loss: 6.9738 - accuracy: 0.2679 - val_loss: 8.2987 - val_accuracy: 0.2545\n",
      "Epoch 15/30\n",
      "130/130 [==============================] - 225s 2s/step - loss: 9.7448 - accuracy: 0.2766 - val_loss: 10.4862 - val_accuracy: 0.2524\n",
      "Epoch 16/30\n",
      "130/130 [==============================] - 225s 2s/step - loss: 9.5400 - accuracy: 0.2787 - val_loss: 8.9084 - val_accuracy: 0.2524\n",
      "Epoch 17/30\n",
      "130/130 [==============================] - 224s 2s/step - loss: 8.5365 - accuracy: 0.2739 - val_loss: 7.5751 - val_accuracy: 0.3046\n",
      "INFO:tensorflow:Assets written to: ram://ace7945a-8dcd-47e9-9b1c-557e2cad49aa/assets\n"
     ]
    },
    {
     "name": "stderr",
     "output_type": "stream",
     "text": [
      "/Users/kristy/opt/anaconda3/envs/metis/lib/python3.8/site-packages/keras/engine/functional.py:1410: CustomMaskWarning: Custom mask layers require a config and must override get_config. When loading, the custom mask layer must be passed to the custom_objects argument.\n",
      "  layer_config = serialize_layer_fn(layer)\n",
      "/Users/kristy/opt/anaconda3/envs/metis/lib/python3.8/site-packages/keras/saving/saved_model/layer_serialization.py:112: CustomMaskWarning: Custom mask layers require a config and must override get_config. When loading, the custom mask layer must be passed to the custom_objects argument.\n",
      "  return generic_utils.serialize_keras_object(obj)\n"
     ]
    }
   ],
   "source": [
    "if os.path.exists(\"Xception_model_directory--.h5\") == False:\n",
    "    \n",
    "\n",
    "    inputs = keras.Input(shape=(150, 150, 3))\n",
    "\n",
    "    #x = data_augmentation(inputs)  # Apply random data augmentation\n",
    "    \n",
    "    x = keras.applications.xception.preprocess_input(inputs)\n",
    "    x = Xception_base(x, training=False)\n",
    "    \n",
    "    x = Flatten()(x)\n",
    "#     x = keras.layers.Dense(32)(x)\n",
    "#     x = keras.layers.Dropout(0.2)(x)  # Regularize with dropout\n",
    "#     x = keras.layers.Dense(32)(x)\n",
    "#     x = keras.layers.Dropout(0.2)(x)\n",
    "    x = keras.layers.Dense(32)(x)\n",
    "    x = keras.layers.Dropout(0.2)(x)\n",
    "    outputs = keras.layers.Dense(8)(x)\n",
    "    Xception = keras.Model(inputs, outputs)\n",
    "\n",
    "    Xception.summary()\n",
    "\n",
    "    Xception.compile(\n",
    "        loss='categorical_crossentropy',\n",
    "        #loss = keras.losses.SparseCategoricalCrossentropy(from_logits=True),\n",
    "        #optimizer= keras.optimizers.Adam(learning_rate=0.01),\n",
    "        optimizer = 'Adam',\n",
    "        metrics=['accuracy'],\n",
    "    )\n",
    "\n",
    "    Xception_result = Xception.fit(train_ds,\n",
    "                             validation_data= val_ds,\n",
    "                             epochs=30,\n",
    "                            verbose=1, \n",
    "                            callbacks = tf.keras.callbacks.EarlyStopping(patience=5))  # track progress as we fit\n",
    "\n",
    "\n",
    "    Xception.save(\"Xception_model_directory.h5\")\n",
    "    with open('Xception_result_directory.pickle','wb')as file:\n",
    "        pickle.dump(Xception_result, file)\n",
    "\n",
    "else: \n",
    "    Xception = keras.models.load_model('Xception_model_directory.h5')\n",
    "        \n",
    "    with open('Xception_result_directory.pickle','rb') as file:\n",
    "        Xception_result = pickle.load(file)"
   ]
  },
  {
   "cell_type": "code",
   "execution_count": null,
   "id": "a24dad60",
   "metadata": {},
   "outputs": [],
   "source": [
    "Xception= keras.models.load_model('Xception_model_directory.h5')\n",
    "y_pred = np.argmax(Xception.predict(X_test),axis =1)"
   ]
  },
  {
   "cell_type": "code",
   "execution_count": null,
   "id": "16d93a5f",
   "metadata": {},
   "outputs": [],
   "source": [
    "print(\"accuracy :\",accuracy_score(y_test, y_pred))\n",
    "print('recall :',recall_score(y_test,y_pred,average = 'macro'))\n",
    "print('precision :', precision_score(y_test,y_pred,average = 'macro'))\n",
    "print('f1 :', f1_score(y_test,y_pred,average = 'macro'))"
   ]
  },
  {
   "cell_type": "markdown",
   "id": "58925dbb",
   "metadata": {},
   "source": [
    "####  Train Xception parameters"
   ]
  },
  {
   "cell_type": "code",
   "execution_count": 164,
   "id": "3c280915",
   "metadata": {},
   "outputs": [
    {
     "data": {
      "text/plain": [
       "True"
      ]
     },
     "execution_count": 164,
     "metadata": {},
     "output_type": "execute_result"
    }
   ],
   "source": [
    "if os.path.exists('Xception_model_base_trainable.h5') == False:\n",
    "    Xception_base.trainable = True\n",
    "    Xception.summary()\n",
    "\n",
    "    Xception.compile(\n",
    "        optimizer=keras.optimizers.Adam(1e-5),  # Low learning rate\n",
    "        loss = keras.losses.SparseCategoricalCrossentropy(from_logits=True),\n",
    "        metrics=['accuracy'])\n",
    "    \n",
    "    Xception_base_trainable_result = Xception.fit(train_ds,\n",
    "                                                 validation_data= val_ds, \n",
    "                                                  epochs=10, \n",
    "                                                  verbose=1,\n",
    "                                                  batch_size =32,\n",
    "                                                 callbacks = keras.callbacks.EarlyStopping(patience=5) )  # track progress as we fit\n",
    "    Xception.save(\"Xception_model_base_trainable.h5\")"
   ]
  },
  {
   "cell_type": "code",
   "execution_count": 134,
   "id": "c88fac76",
   "metadata": {
    "scrolled": false
   },
   "outputs": [
    {
     "name": "stdout",
     "output_type": "stream",
     "text": [
      "Epoch 1/10\n",
      "152/152 [==============================] - 645s 4s/step - loss: 0.5728 - accuracy: 0.8093 - val_loss: 0.5666 - val_accuracy: 0.8132\n",
      "Epoch 2/10\n",
      "152/152 [==============================] - 621s 4s/step - loss: 0.5105 - accuracy: 0.8204 - val_loss: 0.5434 - val_accuracy: 0.8181\n",
      "Epoch 3/10\n",
      "152/152 [==============================] - 646s 4s/step - loss: 0.4748 - accuracy: 0.8352 - val_loss: 0.5285 - val_accuracy: 0.8156\n",
      "Epoch 4/10\n",
      "152/152 [==============================] - 634s 4s/step - loss: 0.4545 - accuracy: 0.8418 - val_loss: 0.5037 - val_accuracy: 0.8305\n",
      "Epoch 5/10\n",
      "152/152 [==============================] - 639s 4s/step - loss: 0.4070 - accuracy: 0.8570 - val_loss: 0.5259 - val_accuracy: 0.8239\n",
      "Epoch 6/10\n",
      "152/152 [==============================] - 634s 4s/step - loss: 0.3811 - accuracy: 0.8685 - val_loss: 0.4790 - val_accuracy: 0.8469\n",
      "Epoch 7/10\n",
      "152/152 [==============================] - 572s 4s/step - loss: 0.3762 - accuracy: 0.8706 - val_loss: 0.4798 - val_accuracy: 0.8444\n",
      "Epoch 8/10\n",
      "152/152 [==============================] - 562s 4s/step - loss: 0.3452 - accuracy: 0.8802 - val_loss: 0.4545 - val_accuracy: 0.8560\n",
      "Epoch 9/10\n",
      "152/152 [==============================] - 615s 4s/step - loss: 0.3102 - accuracy: 0.8912 - val_loss: 0.5115 - val_accuracy: 0.8395\n",
      "Epoch 10/10\n",
      "152/152 [==============================] - 571s 4s/step - loss: 0.3083 - accuracy: 0.8893 - val_loss: 0.4948 - val_accuracy: 0.8519\n"
     ]
    }
   ],
   "source": []
  },
  {
   "cell_type": "code",
   "execution_count": 175,
   "id": "05573bbb",
   "metadata": {},
   "outputs": [
    {
     "name": "stdout",
     "output_type": "stream",
     "text": [
      "accuracy : 0.7991228070175439\n",
      "recall : 0.8679254722227097\n",
      "precision : 0.80427590054281\n",
      "f1 : 0.8257771753857203\n"
     ]
    }
   ],
   "source": [
    "Xception= keras.models.load_model('Xception_model_base_trainable.h5')\n",
    "y_pred = np.argmax(Xception.predict(X_test),axis =1)\n",
    "print(\"accuracy :\",accuracy_score(y_test, y_pred))\n",
    "print('recall :',recall_score(y_test,y_pred,average = 'macro'))\n",
    "print('precision :', precision_score(y_test,y_pred,average = 'macro'))\n",
    "print('f1 :', f1_score(y_test,y_pred,average = 'macro'))"
   ]
  },
  {
   "cell_type": "markdown",
   "id": "e299359d",
   "metadata": {},
   "source": [
    "###  Transfer learning with VGG16"
   ]
  },
  {
   "cell_type": "markdown",
   "id": "4e84dbb9",
   "metadata": {},
   "source": [
    "#### Freeze vgg16 parameters and exclude top layers"
   ]
  },
  {
   "cell_type": "code",
   "execution_count": 223,
   "id": "f7346e89",
   "metadata": {
    "scrolled": false
   },
   "outputs": [
    {
     "name": "stdout",
     "output_type": "stream",
     "text": [
      "Model: \"model_18\"\n",
      "_________________________________________________________________\n",
      " Layer (type)                Output Shape              Param #   \n",
      "=================================================================\n",
      " input_40 (InputLayer)       [(None, 150, 150, 3)]     0         \n",
      "                                                                 \n",
      " tf.__operators__.getitem_7   (None, 150, 150, 3)      0         \n",
      " (SlicingOpLambda)                                               \n",
      "                                                                 \n",
      " tf.nn.bias_add_7 (TFOpLambd  (None, 150, 150, 3)      0         \n",
      " a)                                                              \n",
      "                                                                 \n",
      " vgg16 (Functional)          (None, 4, 4, 512)         14714688  \n",
      "                                                                 \n",
      " global_average_pooling2d_18  (None, 512)              0         \n",
      "  (GlobalAveragePooling2D)                                       \n",
      "                                                                 \n",
      " dense_48 (Dense)            (None, 16)                8208      \n",
      "                                                                 \n",
      " dropout_28 (Dropout)        (None, 16)                0         \n",
      "                                                                 \n",
      " dense_49 (Dense)            (None, 32)                544       \n",
      "                                                                 \n",
      " dropout_29 (Dropout)        (None, 32)                0         \n",
      "                                                                 \n",
      " dense_50 (Dense)            (None, 8)                 264       \n",
      "                                                                 \n",
      "=================================================================\n",
      "Total params: 14,723,704\n",
      "Trainable params: 9,016\n",
      "Non-trainable params: 14,714,688\n",
      "_________________________________________________________________\n",
      "Epoch 1/30\n",
      "152/152 [==============================] - 637s 4s/step - loss: 0.2139 - accuracy: 0.9288 - val_loss: 0.4787 - val_accuracy: 0.8519\n",
      "Epoch 2/30\n",
      "152/152 [==============================] - 667s 4s/step - loss: 0.1962 - accuracy: 0.9251 - val_loss: 0.5368 - val_accuracy: 0.8477\n",
      "Epoch 3/30\n",
      "152/152 [==============================] - 754s 5s/step - loss: 0.1987 - accuracy: 0.9305 - val_loss: 0.5796 - val_accuracy: 0.8486\n",
      "Epoch 4/30\n",
      "152/152 [==============================] - 630s 4s/step - loss: 0.1973 - accuracy: 0.9321 - val_loss: 0.5352 - val_accuracy: 0.8486\n",
      "Epoch 5/30\n",
      "152/152 [==============================] - 595s 4s/step - loss: 0.1932 - accuracy: 0.9346 - val_loss: 0.4706 - val_accuracy: 0.8617\n",
      "Epoch 6/30\n",
      "152/152 [==============================] - 647s 4s/step - loss: 0.1913 - accuracy: 0.9340 - val_loss: 0.5076 - val_accuracy: 0.8593\n",
      "Epoch 7/30\n",
      "152/152 [==============================] - 738s 5s/step - loss: 0.1730 - accuracy: 0.9416 - val_loss: 0.5693 - val_accuracy: 0.8576\n",
      "Epoch 8/30\n",
      "152/152 [==============================] - 647s 4s/step - loss: 0.1614 - accuracy: 0.9451 - val_loss: 0.5573 - val_accuracy: 0.8527\n",
      "Epoch 9/30\n",
      "152/152 [==============================] - 686s 5s/step - loss: 0.1595 - accuracy: 0.9414 - val_loss: 0.5522 - val_accuracy: 0.8519\n",
      "Epoch 10/30\n",
      "152/152 [==============================] - 651s 4s/step - loss: 0.1465 - accuracy: 0.9484 - val_loss: 0.5410 - val_accuracy: 0.8486\n"
     ]
    }
   ],
   "source": [
    "if os.path.exists(\"vgg16_model.h5\") == False:\n",
    "    \n",
    "    vgg16_base = keras.applications.vgg16.VGG16(\n",
    "                                                include_top= False, \n",
    "                                                weights='imagenet', \n",
    "                                                input_shape= (150,150,3))\n",
    "\n",
    "    vgg16_base.trainable = False\n",
    "\n",
    "    inputs = keras.Input(shape=(150, 150, 3))\n",
    "\n",
    "    #x = data_augmentation(inputs)  # Apply random data augmentation\n",
    "    \n",
    "    x = keras.applications.vgg16.preprocess_input(inputs)\n",
    "    x = vgg16_base(x, training=False)\n",
    "\n",
    "    x = keras.layers.GlobalAveragePooling2D()(x)\n",
    "    x = keras.layers.Dense(16)(x)\n",
    "    x = keras.layers.Dropout(0.2)(x)  # Regularize with dropout\n",
    "    x = keras.layers.Dense(32)(x)\n",
    "    x = keras.layers.Dropout(0.2)(x)\n",
    "    outputs = keras.layers.Dense(8)(x)\n",
    "    vgg16 = keras.Model(inputs, outputs)\n",
    "\n",
    "    vgg16.summary()\n",
    "\n",
    "    vgg16.compile(\n",
    "        loss = keras.losses.SparseCategoricalCrossentropy(from_logits= True),\n",
    "        optimizer = 'Adam',\n",
    "        metrics=['accuracy'],\n",
    "    )\n",
    "\n",
    "    vgg16_result = Xception.fit(train_ds,\n",
    "                                validation_data= val_ds,\n",
    "                                epochs=30, \n",
    "                                verbose=1,\n",
    "                                batch_size =32,\n",
    "                                callbacks = keras.callbacks.EarlyStopping(patience=5)) \n",
    "\n",
    "    vgg16.save(\"vgg16_model.h5\")\n",
    "    \n",
    "#     with open('vgg16_result.pickle','wb')as file:\n",
    "#         pickle.dump(vgg16_result, file)\n",
    "\n",
    "else: \n",
    "    vgg16 = keras.models.load_model('vgg16_model.h5')\n",
    "        \n",
    "#     with open('vgg16_result.pickle','rb') as file:\n",
    "#         vgg16_result = pickle.load(file)"
   ]
  },
  {
   "cell_type": "code",
   "execution_count": 225,
   "id": "f17b7a0b",
   "metadata": {},
   "outputs": [
    {
     "name": "stdout",
     "output_type": "stream",
     "text": [
      "accuracy : 0.1412280701754386\n",
      "recall : 0.06944446762349799\n",
      "precision : 0.07099810169735571\n",
      "f1 : 0.06861966245413754\n"
     ]
    }
   ],
   "source": [
    "vgg16 = keras.models.load_model('vgg16_model.h5')\n",
    "\n",
    "#y_pred = np.argmax(vgg16.predict(test_ds),axis =1)\n",
    "y_pred = np.argmax(vgg16.predict(X_test),axis=1)\n",
    "\n",
    "\n",
    "\n",
    "print(\"accuracy :\",accuracy_score(y_test, y_pred))\n",
    "print('recall :',recall_score(y_test,y_pred,average = 'macro'))\n",
    "print('precision :', precision_score(y_test,y_pred,average = 'macro'))\n",
    "print('f1 :', f1_score(y_test,y_pred,average = 'macro'))"
   ]
  },
  {
   "cell_type": "code",
   "execution_count": null,
   "id": "e83eb5c4",
   "metadata": {},
   "outputs": [],
   "source": []
  },
  {
   "cell_type": "code",
   "execution_count": null,
   "id": "28c42afe",
   "metadata": {},
   "outputs": [],
   "source": []
  },
  {
   "cell_type": "code",
   "execution_count": null,
   "id": "6b3f8372",
   "metadata": {},
   "outputs": [],
   "source": []
  },
  {
   "cell_type": "markdown",
   "id": "9eca8887",
   "metadata": {},
   "source": [
    "#### Train VGG16 parameters"
   ]
  },
  {
   "cell_type": "code",
   "execution_count": 231,
   "id": "b1b67aaa",
   "metadata": {
    "scrolled": false
   },
   "outputs": [
    {
     "name": "stdout",
     "output_type": "stream",
     "text": [
      "Model: \"model_18\"\n",
      "_________________________________________________________________\n",
      " Layer (type)                Output Shape              Param #   \n",
      "=================================================================\n",
      " input_40 (InputLayer)       [(None, 150, 150, 3)]     0         \n",
      "                                                                 \n",
      " tf.__operators__.getitem_7   (None, 150, 150, 3)      0         \n",
      " (SlicingOpLambda)                                               \n",
      "                                                                 \n",
      " tf.nn.bias_add_7 (TFOpLambd  (None, 150, 150, 3)      0         \n",
      " a)                                                              \n",
      "                                                                 \n",
      " vgg16 (Functional)          (None, 4, 4, 512)         14714688  \n",
      "                                                                 \n",
      " global_average_pooling2d_18  (None, 512)              0         \n",
      "  (GlobalAveragePooling2D)                                       \n",
      "                                                                 \n",
      " dense_48 (Dense)            (None, 16)                8208      \n",
      "                                                                 \n",
      " dropout_28 (Dropout)        (None, 16)                0         \n",
      "                                                                 \n",
      " dense_49 (Dense)            (None, 32)                544       \n",
      "                                                                 \n",
      " dropout_29 (Dropout)        (None, 32)                0         \n",
      "                                                                 \n",
      " dense_50 (Dense)            (None, 8)                 264       \n",
      "                                                                 \n",
      "=================================================================\n",
      "Total params: 14,723,704\n",
      "Trainable params: 9,016\n",
      "Non-trainable params: 14,714,688\n",
      "_________________________________________________________________\n",
      "Epoch 1/100\n",
      "152/152 [==============================] - 439s 3s/step - loss: 9.4299 - accuracy: 0.1924 - val_loss: 5.9831 - val_accuracy: 0.2576\n",
      "Epoch 2/100\n",
      "152/152 [==============================] - 420s 3s/step - loss: 9.0217 - accuracy: 0.1988 - val_loss: 5.6177 - val_accuracy: 0.2601\n",
      "Epoch 3/100\n",
      "152/152 [==============================] - 426s 3s/step - loss: 8.6740 - accuracy: 0.2126 - val_loss: 5.5579 - val_accuracy: 0.2658\n",
      "Epoch 4/100\n",
      "152/152 [==============================] - 414s 3s/step - loss: 8.2746 - accuracy: 0.2210 - val_loss: 5.4832 - val_accuracy: 0.2576\n",
      "Epoch 5/100\n",
      "152/152 [==============================] - 445s 3s/step - loss: 7.8790 - accuracy: 0.2292 - val_loss: 4.9629 - val_accuracy: 0.2741\n",
      "Epoch 6/100\n",
      "152/152 [==============================] - 421s 3s/step - loss: 7.6092 - accuracy: 0.2370 - val_loss: 4.7441 - val_accuracy: 0.3177\n",
      "Epoch 7/100\n",
      "152/152 [==============================] - 406s 3s/step - loss: 7.4906 - accuracy: 0.2284 - val_loss: 4.5489 - val_accuracy: 0.3021\n",
      "Epoch 8/100\n",
      " 25/152 [===>..........................] - ETA: 4:45 - loss: 7.3388 - accuracy: 0.2475"
     ]
    },
    {
     "ename": "KeyboardInterrupt",
     "evalue": "",
     "output_type": "error",
     "traceback": [
      "\u001b[0;31m---------------------------------------------------------------------------\u001b[0m",
      "\u001b[0;31mKeyboardInterrupt\u001b[0m                         Traceback (most recent call last)",
      "\u001b[0;32m/var/folders/py/tfswslv1637f5tfr0ngkmsgr0000gn/T/ipykernel_5140/1456643120.py\u001b[0m in \u001b[0;36m<module>\u001b[0;34m\u001b[0m\n\u001b[1;32m      9\u001b[0m                 )\n\u001b[1;32m     10\u001b[0m \u001b[0;34m\u001b[0m\u001b[0m\n\u001b[0;32m---> 11\u001b[0;31m     vgg16_result = vgg16.fit(train_ds, \n\u001b[0m\u001b[1;32m     12\u001b[0m                          \u001b[0mvalidation_data\u001b[0m \u001b[0;34m=\u001b[0m \u001b[0mval_ds\u001b[0m\u001b[0;34m,\u001b[0m\u001b[0;34m\u001b[0m\u001b[0;34m\u001b[0m\u001b[0m\n\u001b[1;32m     13\u001b[0m                          \u001b[0mepochs\u001b[0m \u001b[0;34m=\u001b[0m \u001b[0;36m100\u001b[0m\u001b[0;34m,\u001b[0m\u001b[0;34m\u001b[0m\u001b[0;34m\u001b[0m\u001b[0m\n",
      "\u001b[0;32m~/opt/anaconda3/envs/metis/lib/python3.8/site-packages/keras/utils/traceback_utils.py\u001b[0m in \u001b[0;36merror_handler\u001b[0;34m(*args, **kwargs)\u001b[0m\n\u001b[1;32m     62\u001b[0m     \u001b[0mfiltered_tb\u001b[0m \u001b[0;34m=\u001b[0m \u001b[0;32mNone\u001b[0m\u001b[0;34m\u001b[0m\u001b[0;34m\u001b[0m\u001b[0m\n\u001b[1;32m     63\u001b[0m     \u001b[0;32mtry\u001b[0m\u001b[0;34m:\u001b[0m\u001b[0;34m\u001b[0m\u001b[0;34m\u001b[0m\u001b[0m\n\u001b[0;32m---> 64\u001b[0;31m       \u001b[0;32mreturn\u001b[0m \u001b[0mfn\u001b[0m\u001b[0;34m(\u001b[0m\u001b[0;34m*\u001b[0m\u001b[0margs\u001b[0m\u001b[0;34m,\u001b[0m \u001b[0;34m**\u001b[0m\u001b[0mkwargs\u001b[0m\u001b[0;34m)\u001b[0m\u001b[0;34m\u001b[0m\u001b[0;34m\u001b[0m\u001b[0m\n\u001b[0m\u001b[1;32m     65\u001b[0m     \u001b[0;32mexcept\u001b[0m \u001b[0mException\u001b[0m \u001b[0;32mas\u001b[0m \u001b[0me\u001b[0m\u001b[0;34m:\u001b[0m  \u001b[0;31m# pylint: disable=broad-except\u001b[0m\u001b[0;34m\u001b[0m\u001b[0;34m\u001b[0m\u001b[0m\n\u001b[1;32m     66\u001b[0m       \u001b[0mfiltered_tb\u001b[0m \u001b[0;34m=\u001b[0m \u001b[0m_process_traceback_frames\u001b[0m\u001b[0;34m(\u001b[0m\u001b[0me\u001b[0m\u001b[0;34m.\u001b[0m\u001b[0m__traceback__\u001b[0m\u001b[0;34m)\u001b[0m\u001b[0;34m\u001b[0m\u001b[0;34m\u001b[0m\u001b[0m\n",
      "\u001b[0;32m~/opt/anaconda3/envs/metis/lib/python3.8/site-packages/keras/engine/training.py\u001b[0m in \u001b[0;36mfit\u001b[0;34m(self, x, y, batch_size, epochs, verbose, callbacks, validation_split, validation_data, shuffle, class_weight, sample_weight, initial_epoch, steps_per_epoch, validation_steps, validation_batch_size, validation_freq, max_queue_size, workers, use_multiprocessing)\u001b[0m\n\u001b[1;32m   1214\u001b[0m                 _r=1):\n\u001b[1;32m   1215\u001b[0m               \u001b[0mcallbacks\u001b[0m\u001b[0;34m.\u001b[0m\u001b[0mon_train_batch_begin\u001b[0m\u001b[0;34m(\u001b[0m\u001b[0mstep\u001b[0m\u001b[0;34m)\u001b[0m\u001b[0;34m\u001b[0m\u001b[0;34m\u001b[0m\u001b[0m\n\u001b[0;32m-> 1216\u001b[0;31m               \u001b[0mtmp_logs\u001b[0m \u001b[0;34m=\u001b[0m \u001b[0mself\u001b[0m\u001b[0;34m.\u001b[0m\u001b[0mtrain_function\u001b[0m\u001b[0;34m(\u001b[0m\u001b[0miterator\u001b[0m\u001b[0;34m)\u001b[0m\u001b[0;34m\u001b[0m\u001b[0;34m\u001b[0m\u001b[0m\n\u001b[0m\u001b[1;32m   1217\u001b[0m               \u001b[0;32mif\u001b[0m \u001b[0mdata_handler\u001b[0m\u001b[0;34m.\u001b[0m\u001b[0mshould_sync\u001b[0m\u001b[0;34m:\u001b[0m\u001b[0;34m\u001b[0m\u001b[0;34m\u001b[0m\u001b[0m\n\u001b[1;32m   1218\u001b[0m                 \u001b[0mcontext\u001b[0m\u001b[0;34m.\u001b[0m\u001b[0masync_wait\u001b[0m\u001b[0;34m(\u001b[0m\u001b[0;34m)\u001b[0m\u001b[0;34m\u001b[0m\u001b[0;34m\u001b[0m\u001b[0m\n",
      "\u001b[0;32m~/opt/anaconda3/envs/metis/lib/python3.8/site-packages/tensorflow/python/util/traceback_utils.py\u001b[0m in \u001b[0;36merror_handler\u001b[0;34m(*args, **kwargs)\u001b[0m\n\u001b[1;32m    148\u001b[0m     \u001b[0mfiltered_tb\u001b[0m \u001b[0;34m=\u001b[0m \u001b[0;32mNone\u001b[0m\u001b[0;34m\u001b[0m\u001b[0;34m\u001b[0m\u001b[0m\n\u001b[1;32m    149\u001b[0m     \u001b[0;32mtry\u001b[0m\u001b[0;34m:\u001b[0m\u001b[0;34m\u001b[0m\u001b[0;34m\u001b[0m\u001b[0m\n\u001b[0;32m--> 150\u001b[0;31m       \u001b[0;32mreturn\u001b[0m \u001b[0mfn\u001b[0m\u001b[0;34m(\u001b[0m\u001b[0;34m*\u001b[0m\u001b[0margs\u001b[0m\u001b[0;34m,\u001b[0m \u001b[0;34m**\u001b[0m\u001b[0mkwargs\u001b[0m\u001b[0;34m)\u001b[0m\u001b[0;34m\u001b[0m\u001b[0;34m\u001b[0m\u001b[0m\n\u001b[0m\u001b[1;32m    151\u001b[0m     \u001b[0;32mexcept\u001b[0m \u001b[0mException\u001b[0m \u001b[0;32mas\u001b[0m \u001b[0me\u001b[0m\u001b[0;34m:\u001b[0m\u001b[0;34m\u001b[0m\u001b[0;34m\u001b[0m\u001b[0m\n\u001b[1;32m    152\u001b[0m       \u001b[0mfiltered_tb\u001b[0m \u001b[0;34m=\u001b[0m \u001b[0m_process_traceback_frames\u001b[0m\u001b[0;34m(\u001b[0m\u001b[0me\u001b[0m\u001b[0;34m.\u001b[0m\u001b[0m__traceback__\u001b[0m\u001b[0;34m)\u001b[0m\u001b[0;34m\u001b[0m\u001b[0;34m\u001b[0m\u001b[0m\n",
      "\u001b[0;32m~/opt/anaconda3/envs/metis/lib/python3.8/site-packages/tensorflow/python/eager/def_function.py\u001b[0m in \u001b[0;36m__call__\u001b[0;34m(self, *args, **kwds)\u001b[0m\n\u001b[1;32m    908\u001b[0m \u001b[0;34m\u001b[0m\u001b[0m\n\u001b[1;32m    909\u001b[0m       \u001b[0;32mwith\u001b[0m \u001b[0mOptionalXlaContext\u001b[0m\u001b[0;34m(\u001b[0m\u001b[0mself\u001b[0m\u001b[0;34m.\u001b[0m\u001b[0m_jit_compile\u001b[0m\u001b[0;34m)\u001b[0m\u001b[0;34m:\u001b[0m\u001b[0;34m\u001b[0m\u001b[0;34m\u001b[0m\u001b[0m\n\u001b[0;32m--> 910\u001b[0;31m         \u001b[0mresult\u001b[0m \u001b[0;34m=\u001b[0m \u001b[0mself\u001b[0m\u001b[0;34m.\u001b[0m\u001b[0m_call\u001b[0m\u001b[0;34m(\u001b[0m\u001b[0;34m*\u001b[0m\u001b[0margs\u001b[0m\u001b[0;34m,\u001b[0m \u001b[0;34m**\u001b[0m\u001b[0mkwds\u001b[0m\u001b[0;34m)\u001b[0m\u001b[0;34m\u001b[0m\u001b[0;34m\u001b[0m\u001b[0m\n\u001b[0m\u001b[1;32m    911\u001b[0m \u001b[0;34m\u001b[0m\u001b[0m\n\u001b[1;32m    912\u001b[0m       \u001b[0mnew_tracing_count\u001b[0m \u001b[0;34m=\u001b[0m \u001b[0mself\u001b[0m\u001b[0;34m.\u001b[0m\u001b[0mexperimental_get_tracing_count\u001b[0m\u001b[0;34m(\u001b[0m\u001b[0;34m)\u001b[0m\u001b[0;34m\u001b[0m\u001b[0;34m\u001b[0m\u001b[0m\n",
      "\u001b[0;32m~/opt/anaconda3/envs/metis/lib/python3.8/site-packages/tensorflow/python/eager/def_function.py\u001b[0m in \u001b[0;36m_call\u001b[0;34m(self, *args, **kwds)\u001b[0m\n\u001b[1;32m    940\u001b[0m       \u001b[0;31m# In this case we have created variables on the first call, so we run the\u001b[0m\u001b[0;34m\u001b[0m\u001b[0;34m\u001b[0m\u001b[0;34m\u001b[0m\u001b[0m\n\u001b[1;32m    941\u001b[0m       \u001b[0;31m# defunned version which is guaranteed to never create variables.\u001b[0m\u001b[0;34m\u001b[0m\u001b[0;34m\u001b[0m\u001b[0;34m\u001b[0m\u001b[0m\n\u001b[0;32m--> 942\u001b[0;31m       \u001b[0;32mreturn\u001b[0m \u001b[0mself\u001b[0m\u001b[0;34m.\u001b[0m\u001b[0m_stateless_fn\u001b[0m\u001b[0;34m(\u001b[0m\u001b[0;34m*\u001b[0m\u001b[0margs\u001b[0m\u001b[0;34m,\u001b[0m \u001b[0;34m**\u001b[0m\u001b[0mkwds\u001b[0m\u001b[0;34m)\u001b[0m  \u001b[0;31m# pylint: disable=not-callable\u001b[0m\u001b[0;34m\u001b[0m\u001b[0;34m\u001b[0m\u001b[0m\n\u001b[0m\u001b[1;32m    943\u001b[0m     \u001b[0;32melif\u001b[0m \u001b[0mself\u001b[0m\u001b[0;34m.\u001b[0m\u001b[0m_stateful_fn\u001b[0m \u001b[0;32mis\u001b[0m \u001b[0;32mnot\u001b[0m \u001b[0;32mNone\u001b[0m\u001b[0;34m:\u001b[0m\u001b[0;34m\u001b[0m\u001b[0;34m\u001b[0m\u001b[0m\n\u001b[1;32m    944\u001b[0m       \u001b[0;31m# Release the lock early so that multiple threads can perform the call\u001b[0m\u001b[0;34m\u001b[0m\u001b[0;34m\u001b[0m\u001b[0;34m\u001b[0m\u001b[0m\n",
      "\u001b[0;32m~/opt/anaconda3/envs/metis/lib/python3.8/site-packages/tensorflow/python/eager/function.py\u001b[0m in \u001b[0;36m__call__\u001b[0;34m(self, *args, **kwargs)\u001b[0m\n\u001b[1;32m   3128\u001b[0m       (graph_function,\n\u001b[1;32m   3129\u001b[0m        filtered_flat_args) = self._maybe_define_function(args, kwargs)\n\u001b[0;32m-> 3130\u001b[0;31m     return graph_function._call_flat(\n\u001b[0m\u001b[1;32m   3131\u001b[0m         filtered_flat_args, captured_inputs=graph_function.captured_inputs)  # pylint: disable=protected-access\n\u001b[1;32m   3132\u001b[0m \u001b[0;34m\u001b[0m\u001b[0m\n",
      "\u001b[0;32m~/opt/anaconda3/envs/metis/lib/python3.8/site-packages/tensorflow/python/eager/function.py\u001b[0m in \u001b[0;36m_call_flat\u001b[0;34m(self, args, captured_inputs, cancellation_manager)\u001b[0m\n\u001b[1;32m   1957\u001b[0m         and executing_eagerly):\n\u001b[1;32m   1958\u001b[0m       \u001b[0;31m# No tape is watching; skip to running the function.\u001b[0m\u001b[0;34m\u001b[0m\u001b[0;34m\u001b[0m\u001b[0;34m\u001b[0m\u001b[0m\n\u001b[0;32m-> 1959\u001b[0;31m       return self._build_call_outputs(self._inference_function.call(\n\u001b[0m\u001b[1;32m   1960\u001b[0m           ctx, args, cancellation_manager=cancellation_manager))\n\u001b[1;32m   1961\u001b[0m     forward_backward = self._select_forward_and_backward_functions(\n",
      "\u001b[0;32m~/opt/anaconda3/envs/metis/lib/python3.8/site-packages/tensorflow/python/eager/function.py\u001b[0m in \u001b[0;36mcall\u001b[0;34m(self, ctx, args, cancellation_manager)\u001b[0m\n\u001b[1;32m    596\u001b[0m       \u001b[0;32mwith\u001b[0m \u001b[0m_InterpolateFunctionError\u001b[0m\u001b[0;34m(\u001b[0m\u001b[0mself\u001b[0m\u001b[0;34m)\u001b[0m\u001b[0;34m:\u001b[0m\u001b[0;34m\u001b[0m\u001b[0;34m\u001b[0m\u001b[0m\n\u001b[1;32m    597\u001b[0m         \u001b[0;32mif\u001b[0m \u001b[0mcancellation_manager\u001b[0m \u001b[0;32mis\u001b[0m \u001b[0;32mNone\u001b[0m\u001b[0;34m:\u001b[0m\u001b[0;34m\u001b[0m\u001b[0;34m\u001b[0m\u001b[0m\n\u001b[0;32m--> 598\u001b[0;31m           outputs = execute.execute(\n\u001b[0m\u001b[1;32m    599\u001b[0m               \u001b[0mstr\u001b[0m\u001b[0;34m(\u001b[0m\u001b[0mself\u001b[0m\u001b[0;34m.\u001b[0m\u001b[0msignature\u001b[0m\u001b[0;34m.\u001b[0m\u001b[0mname\u001b[0m\u001b[0;34m)\u001b[0m\u001b[0;34m,\u001b[0m\u001b[0;34m\u001b[0m\u001b[0;34m\u001b[0m\u001b[0m\n\u001b[1;32m    600\u001b[0m               \u001b[0mnum_outputs\u001b[0m\u001b[0;34m=\u001b[0m\u001b[0mself\u001b[0m\u001b[0;34m.\u001b[0m\u001b[0m_num_outputs\u001b[0m\u001b[0;34m,\u001b[0m\u001b[0;34m\u001b[0m\u001b[0;34m\u001b[0m\u001b[0m\n",
      "\u001b[0;32m~/opt/anaconda3/envs/metis/lib/python3.8/site-packages/tensorflow/python/eager/execute.py\u001b[0m in \u001b[0;36mquick_execute\u001b[0;34m(op_name, num_outputs, inputs, attrs, ctx, name)\u001b[0m\n\u001b[1;32m     56\u001b[0m   \u001b[0;32mtry\u001b[0m\u001b[0;34m:\u001b[0m\u001b[0;34m\u001b[0m\u001b[0;34m\u001b[0m\u001b[0m\n\u001b[1;32m     57\u001b[0m     \u001b[0mctx\u001b[0m\u001b[0;34m.\u001b[0m\u001b[0mensure_initialized\u001b[0m\u001b[0;34m(\u001b[0m\u001b[0;34m)\u001b[0m\u001b[0;34m\u001b[0m\u001b[0;34m\u001b[0m\u001b[0m\n\u001b[0;32m---> 58\u001b[0;31m     tensors = pywrap_tfe.TFE_Py_Execute(ctx._handle, device_name, op_name,\n\u001b[0m\u001b[1;32m     59\u001b[0m                                         inputs, attrs, num_outputs)\n\u001b[1;32m     60\u001b[0m   \u001b[0;32mexcept\u001b[0m \u001b[0mcore\u001b[0m\u001b[0;34m.\u001b[0m\u001b[0m_NotOkStatusException\u001b[0m \u001b[0;32mas\u001b[0m \u001b[0me\u001b[0m\u001b[0;34m:\u001b[0m\u001b[0;34m\u001b[0m\u001b[0;34m\u001b[0m\u001b[0m\n",
      "\u001b[0;31mKeyboardInterrupt\u001b[0m: "
     ]
    }
   ],
   "source": [
    "if os.path.exists('vgg16_model_trainable.h5') == False:\n",
    "    vgg16_base.trainable = True\n",
    "    vgg16.summary()\n",
    "\n",
    "    vgg16.compile(\n",
    "                optimizer=keras.optimizers.Adam(1e-5),  # Low learning rate\n",
    "                loss = keras.losses.SparseCategoricalCrossentropy(from_logits=True),\n",
    "                metrics=['accuracy']\n",
    "                )\n",
    "    \n",
    "    vgg16_result = vgg16.fit(train_ds, \n",
    "                         validation_data = val_ds,\n",
    "                         epochs = 100,\n",
    "                         callbacks = keras.callbacks.EarlyStopping(patience=5),\n",
    "                         verbose =1,\n",
    "                         batch_size = 32)\n",
    "    vgg16.save('vgg16_model_trainable.h5')"
   ]
  },
  {
   "cell_type": "code",
   "execution_count": null,
   "id": "c5c2df4b",
   "metadata": {},
   "outputs": [],
   "source": [
    "vgg16 = keras.models.load_model('vgg16_model_trainable.h5')\n",
    "y_pred = np.argmax(vgg16.predict(X_test),axis=1)\n",
    "print(\"accuracy :\",accuracy_score(y_test, y_pred))\n",
    "print('recall :',recall_score(y_test,y_pred,average = 'macro'))\n",
    "print('precision :', precision_score(y_test,y_pred,average = 'macro'))\n",
    "print('f1 :', f1_score(y_test,y_pred,average = 'macro'))"
   ]
  },
  {
   "cell_type": "markdown",
   "id": "cdaa3296",
   "metadata": {},
   "source": [
    "#### Test model result"
   ]
  },
  {
   "cell_type": "code",
   "execution_count": 89,
   "id": "bac44042",
   "metadata": {},
   "outputs": [
    {
     "data": {
      "text/plain": [
       "(-0.5, 149.5, 149.5, -0.5)"
      ]
     },
     "execution_count": 89,
     "metadata": {},
     "output_type": "execute_result"
    },
    {
     "data": {
      "image/png": "[encoded data removed]",
      "text/plain": [
       "<Figure size 432x288 with 1 Axes>"
      ]
     },
     "metadata": {
      "needs_background": "light"
     },
     "output_type": "display_data"
    }
   ],
   "source": [
    "pred_index =1500\n",
    "plt.imshow(X_test[pred_index]/np.max(X_test[pred_index]))\n",
    "plt.axis('off')"
   ]
  },
  {
   "cell_type": "code",
   "execution_count": 90,
   "id": "5cbf95ea",
   "metadata": {},
   "outputs": [
    {
     "data": {
      "text/plain": [
       "'Screw Driver'"
      ]
     },
     "execution_count": 90,
     "metadata": {},
     "output_type": "execute_result"
    }
   ],
   "source": [
    "pre_array = Xception.predict(tf.expand_dims(X_test[pred_index],0))\n",
    "int_category_map.get(pre_array.argmax())"
   ]
  },
  {
   "cell_type": "code",
   "execution_count": null,
   "id": "6025ceb3",
   "metadata": {},
   "outputs": [],
   "source": []
  }
 ],
 "metadata": {
  "kernelspec": {
   "display_name": "Python [conda env:metis] *",
   "language": "python",
   "name": "conda-env-metis-py"
  },
  "language_info": {
   "codemirror_mode": {
    "name": "ipython",
    "version": 3
   },
   "file_extension": ".py",
   "mimetype": "text/x-python",
   "name": "python",
   "nbconvert_exporter": "python",
   "pygments_lexer": "ipython3",
   "version": "3.8.10"
  }
 },
 "nbformat": 4,
 "nbformat_minor": 5
}
